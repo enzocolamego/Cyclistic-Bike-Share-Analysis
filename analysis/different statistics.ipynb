{
  "nbformat": 4,
  "nbformat_minor": 0,
  "metadata": {
    "colab": {
      "provenance": []
    },
    "kernelspec": {
      "name": "python3",
      "display_name": "Python 3"
    },
    "language_info": {
      "name": "python"
    }
  },
  "cells": [
    {
      "cell_type": "code",
      "execution_count": 2,
      "metadata": {
        "id": "A04-BhYgiOGI"
      },
      "outputs": [],
      "source": [
        "import pandas as pd"
      ]
    },
    {
      "cell_type": "code",
      "source": [
        "df = pd.read_csv('bike data clean.csv', encoding='unicode_escape').astype(str)\n",
        "df_copy = df.copy()\n",
        "df_copy['total_time'] = pd.to_timedelta(df_copy['total_time'])"
      ],
      "metadata": {
        "id": "xZ-PrKbtio_U"
      },
      "execution_count": 7,
      "outputs": []
    },
    {
      "cell_type": "code",
      "source": [
        "if 'member_casual' in df_copy.columns:\n",
        "  casual_users = (df_copy['member_casual'] == 'casual').sum()\n",
        "  member_users = (df_copy['member_casual'] == 'member').sum()\n",
        "  casual_percentage = casual_users / (casual_users + member_users) * 100\n",
        "  member_percentage = member_users / (casual_users + member_users) * 100\n",
        "print(f\"Number of casual users: {casual_users}\")\n",
        "print(f\"Number of member users: {member_users}\")\n",
        "print(f\"Percentage of casual users: {casual_percentage:.3f}%\")\n",
        "print(f\"Percentage of member users: {member_percentage:.3f}%\")"
      ],
      "metadata": {
        "colab": {
          "base_uri": "https://localhost:8080/"
        },
        "id": "xCPhN5l4ivSo",
        "outputId": "6d2ac0cb-08c9-463f-ff8f-bf0576526af3"
      },
      "execution_count": 8,
      "outputs": [
        {
          "output_type": "stream",
          "name": "stdout",
          "text": [
            "Number of casual users: 91051\n",
            "Number of member users: 239270\n",
            "Percentage of casual users: 27.564%\n",
            "Percentage of member users: 72.436%\n"
          ]
        }
      ]
    },
    {
      "cell_type": "code",
      "source": [
        "mean_casual_time = df_copy[df_copy['member_casual'] == 'casual']['total_time'].mean()\n",
        "min_casual_time = df_copy[df_copy['member_casual'] == 'casual']['total_time'].min()\n",
        "max_casual_time = df_copy[df_copy['member_casual'] == 'casual']['total_time'].max()\n",
        "mean_member_time = df_copy[df_copy['member_casual'] == 'member']['total_time'].mean()\n",
        "min_member_time = df_copy[df_copy['member_casual'] == 'member']['total_time'].min()\n",
        "max_member_time = df_copy[df_copy['member_casual'] == 'member']['total_time'].max()\n",
        "\n",
        "print(f\"Mean casual time: {mean_casual_time}\")\n",
        "print(f\"Min casual time: {min_casual_time}\")\n",
        "print(f\"Max casual time: {max_casual_time}\\n\")\n",
        "print(f\"Mean member time: {mean_member_time}\")\n",
        "print(f\"Min member time: {min_member_time}\")\n",
        "print(f\"Max member time: {max_member_time}\")"
      ],
      "metadata": {
        "colab": {
          "base_uri": "https://localhost:8080/"
        },
        "id": "4wGK557jiyv5",
        "outputId": "3aa559bc-e7e8-4e13-80e2-82d514902fef"
      },
      "execution_count": 9,
      "outputs": [
        {
          "output_type": "stream",
          "name": "stdout",
          "text": [
            "Mean casual time: 0 days 00:19:56.050469242\n",
            "Min casual time: 0 days 00:00:45.099000\n",
            "Max casual time: 1 days 01:00:51.765000\n",
            "\n",
            "Mean member time: 0 days 00:11:14.536243323\n",
            "Min member time: 0 days 00:00:45.018000\n",
            "Max member time: 1 days 00:59:56.042000\n"
          ]
        }
      ]
    }
  ]
}